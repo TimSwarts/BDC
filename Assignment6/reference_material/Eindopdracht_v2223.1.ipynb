{
 "cells": [
  {
   "cell_type": "markdown",
   "metadata": {},
   "source": [
    "# Eindopdracht Advanced Datamining\n",
    "\n",
    "## Studiejaar 2022-2023, 1e gelegenheid\n",
    "\n",
    "1. [Inleiding](#Inleiding)\n",
    "2. [Deel A](#Deel_A)\n",
    "3. [Deel B](#Deel_B)\n",
    "3. [Afsluiting](#Afsluiting)\n",
    "\n",
    "### <a id='Inleiding'>Inleiding</a>\n",
    "\n",
    "Dit is de *eindopdracht* behorende bij het vak *Advanced Datamining* (BFVH4DMN2) voor het *studiejaar 2022-2023 (1e gelegenheid)*. Op BlackBoard tref je eveneens een module `data.py` aan die diverse functies bevat die helpen bij het genereren en het visualiseren van de gebruikte datasets, en een bijbehorend data-bestand `MNIST-mini.zip`.\n",
    "\n",
    "Gebruik de `model` module die je in werkcollegeopdrachten 1, 2, 3, 4, en 5 & 6 hebt gemaakt om de onderstaande opdrachten uit te voeren. Deze eindopdracht bestaat uit twee delen:\n",
    "\n",
    "- in **Deel A** worden een aantal cellen code gedraaid die als het goed is onmiddellijk zouden moeten werken met je model;\n",
    "\n",
    "- in **Deel B** wordt je gevraagd om je gemaakte model zelf toe te passen, en hoef je je module slechts licht uit te breiden.\n",
    "\n",
    "<div class=\"alert alert-danger\">\n",
    "\n",
    "**Waarschuwing:**\n",
    "\n",
    "De code in je module mag gebruik maken van alle functies uit de [Python Standard Library](https://docs.python.org/3/library/) (zoals `math`, `random`, `itertools`, enzovoorts); het is *niet* toegestaan om functies toe te passen uit bestaande machine learning modules (zoals `sklearn`, `keras`, `tensorflow`, enzovoorts).\n",
    "\n",
    "</div>\n",
    "\n",
    "Eerst zetten we weer wat initialisatie op en importeren we naast de `data` en `model` modules enkele onderdelen van `pandas`, `numpy`, en `time`. Plaats de cursor in de cel hieronder en druk op Ctrl+Enter (of Shift+Enter om meteen naar de volgende cel te gaan)."
   ]
  },
  {
   "cell_type": "code",
   "execution_count": 2,
   "metadata": {},
   "outputs": [
    {
     "name": "stdout",
     "output_type": "stream",
     "text": [
      "Using pandas version 1.4.4\n",
      "Using numpy version 1.23.3\n"
     ]
    }
   ],
   "source": [
    "%matplotlib inline\n",
    "%reload_ext autoreload\n",
    "# %autoreload 2\n",
    "\n",
    "from pandas import DataFrame, __version__\n",
    "print(f'Using pandas version {__version__}')\n",
    "\n",
    "from numpy import array, __version__\n",
    "print(f'Using numpy version {__version__}')\n",
    "\n",
    "from time import perf_counter\n",
    "\n",
    "from random import sample\n",
    "\n",
    "import model, data"
   ]
  },
  {
   "cell_type": "markdown",
   "metadata": {},
   "source": [
    "### <a id='Deel_A'>Deel A</a>\n",
    "\n",
    "Hieronder staan een aantal fragmenten code die je model *ongewijzigd* dient te kunnen uitvoeren. Voor verdere details omtrent deze gevraagde functionaliteiten, zie zonodig de werkcollege-opdrachten en/of de syllabus.\n",
    "\n",
    "#### Activatiefuncties"
   ]
  },
  {
   "cell_type": "code",
   "execution_count": null,
   "metadata": {},
   "outputs": [],
   "source": [
    "my_activations = [model.linear, model.tanh, model.softsign, model.sigmoid, model.softplus, model.relu, model.swish, model.sign]\n",
    "my_arguments =  [-1000, -1, 0, 1, 1000]\n",
    "my_table = [[φ(a) for a in my_arguments] for φ in my_activations]\n",
    "my_columns = [f'φ({a})' for a in my_arguments]\n",
    "my_rows = [φ.__name__ for φ in my_activations]"
   ]
  },
  {
   "cell_type": "code",
   "execution_count": null,
   "metadata": {},
   "outputs": [],
   "source": [
    "data.graph(my_activations)"
   ]
  },
  {
   "cell_type": "code",
   "execution_count": null,
   "metadata": {},
   "outputs": [],
   "source": [
    "data.graph([model.derivative(φ) for φ in my_activations if φ != model.sign])"
   ]
  },
  {
   "cell_type": "code",
   "execution_count": null,
   "metadata": {},
   "outputs": [],
   "source": [
    "DataFrame(my_table, columns=my_columns).set_index(array(my_rows))"
   ]
  },
  {
   "cell_type": "markdown",
   "metadata": {},
   "source": [
    "#### Lossfuncties"
   ]
  },
  {
   "cell_type": "code",
   "execution_count": null,
   "metadata": {},
   "outputs": [],
   "source": [
    "my_losses = [model.mean_squared_error, model.mean_absolute_error, model.categorical_crossentropy, model.binary_crossentropy, model.hinge]\n",
    "my_arguments =  [0.01, 0.1, 0.5, 0.9, 0.99]\n",
    "my_table = [[L(a, 1.0) for a in my_arguments] for L in my_losses]\n",
    "my_columns = [f'L({a}; 1)' for a in my_arguments]\n",
    "my_rows = [L.__name__ for L in my_losses]"
   ]
  },
  {
   "cell_type": "code",
   "execution_count": null,
   "metadata": {},
   "outputs": [],
   "source": [
    "data.graph(my_losses, 1.0, xlim=(0.001, 0.999))"
   ]
  },
  {
   "cell_type": "code",
   "execution_count": null,
   "metadata": {},
   "outputs": [],
   "source": [
    "DataFrame(my_table, columns=my_columns).set_index(array(my_rows))"
   ]
  },
  {
   "cell_type": "markdown",
   "metadata": {},
   "source": [
    "#### Classificatie: single-layer perceptron"
   ]
  },
  {
   "cell_type": "code",
   "execution_count": null,
   "metadata": {},
   "outputs": [],
   "source": [
    "xs, ys = data.linear('nominal')\n",
    "my_model = model.Perceptron(dim=2)\n",
    "my_model.fit(xs, ys)\n",
    "data.scatter(xs, ys, model=my_model)\n",
    "print(my_model)"
   ]
  },
  {
   "cell_type": "markdown",
   "metadata": {},
   "source": [
    "#### Classificatie: support vector machine"
   ]
  },
  {
   "cell_type": "code",
   "execution_count": null,
   "metadata": {},
   "outputs": [],
   "source": [
    "xs, ys = data.linear(outcome='nominal', noise=1.0)\n",
    "my_model = model.Neuron(dim=2, loss=model.hinge)\n",
    "my_model.fit(xs, ys)\n",
    "data.scatter(xs, ys, model=my_model)\n",
    "print(my_model)"
   ]
  },
  {
   "cell_type": "markdown",
   "metadata": {},
   "source": [
    "#### Classificatie: binomiale logistische regressie"
   ]
  },
  {
   "cell_type": "code",
   "execution_count": null,
   "metadata": {},
   "outputs": [],
   "source": [
    "xs, ys = data.linear(outcome='nominal', noise=1.0)\n",
    "ys = [(y + 1.0) / 2.0 for y in ys]   # Convert labels -1/+1 to 0/1\n",
    "my_model = model.Neuron(dim=2, activation=model.sigmoid, loss=model.binary_crossentropy)\n",
    "my_model.fit(xs, ys)\n",
    "data.scatter(xs, ys, model=my_model)\n",
    "print(my_model)"
   ]
  },
  {
   "cell_type": "markdown",
   "metadata": {},
   "source": [
    "#### Classificatie: multi-layer perceptron"
   ]
  },
  {
   "cell_type": "code",
   "execution_count": null,
   "metadata": {},
   "outputs": [],
   "source": [
    "xs, ys = data.fractal(4)\n",
    "my_model = model.InputLayer(2) + \\\n",
    "           model.DenseLayer(20) + model.ActivationLayer(20, activation=model.tanh) + \\\n",
    "           model.DenseLayer(10) + model.ActivationLayer(10, activation=model.tanh) + \\\n",
    "           model.DenseLayer(4) + model.SoftmaxLayer(4) + \\\n",
    "           model.LossLayer(loss=model.categorical_crossentropy)\n",
    "my_model.fit(xs, ys, alpha=0.5, epochs=100, batch_size=20); my_model.fit(xs, ys, alpha=0.5, epochs=10)\n",
    "data.scatter(xs, ys, model=my_model)\n",
    "print(my_model)"
   ]
  },
  {
   "cell_type": "markdown",
   "metadata": {},
   "source": [
    "#### Regressie: lineaire regressie"
   ]
  },
  {
   "cell_type": "code",
   "execution_count": null,
   "metadata": {},
   "outputs": [],
   "source": [
    "xs, ys = data.linear('numeric', noise=1.0)\n",
    "my_model = model.LinearRegression(dim=2)\n",
    "my_model.fit(xs, ys)\n",
    "data.scatter(xs, ys, model=my_model)\n",
    "print(my_model)"
   ]
  },
  {
   "cell_type": "markdown",
   "metadata": {},
   "source": [
    "#### Regressie: neuraal netwerk"
   ]
  },
  {
   "cell_type": "code",
   "execution_count": null,
   "metadata": {},
   "outputs": [],
   "source": [
    "xs, ys = data.concentric(noise=0.1)\n",
    "my_model = model.InputLayer(2) + \\\n",
    "           model.DenseLayer(20) + model.ActivationLayer(20, activation=model.tanh) + \\\n",
    "           model.DenseLayer(10) + model.ActivationLayer(10, activation=model.tanh) + \\\n",
    "           model.DenseLayer(1) + model.ActivationLayer(1, activation=model.linear) + \\\n",
    "           model.LossLayer(loss=model.mean_squared_error)\n",
    "my_model.fit(xs, ys, alpha=0.05, epochs=200, batch_size=10); my_model.fit(xs, ys, alpha=0.05, epochs=20)\n",
    "data.scatter(xs, ys, model=my_model)\n",
    "print(my_model)"
   ]
  },
  {
   "cell_type": "markdown",
   "metadata": {},
   "source": [
    "### <a id='Deel_B'>Deel B</a>\n",
    "\n",
    "In dit deel ga je met een klassieke dataset aan de slag, de [MNIST database](https://en.wikipedia.org/wiki/MNIST_database) die bestaat uit duizenden afbeeldingen van handgeschreven cijfers 0 tot en met 9. Dit wordt wel eens betiteld als het *Hello world!* voorbeeld uit de wereld van deep learning. Beschikbaar op BlackBoard is een bestand **MNIST_mini.dat** (dat je dient te unzippen uit **MNIST_mini.zip**) met een geminiaturiseerde versie met afbeeldingen van 12x12 pixels elk. In totaal zijn er maximaal 60.000 instances beschikbaar, 6.000 van elk cijfer. De functie `data.mnist_mini()` kan gebruikt worden om een aantal instances op te vragen. Deze functie levert de attributen van de instances in de vorm van 144 pixel-intensiteiten tussen 0 en 1, en de klasselabels in de vorm van 10 getalwaarden met het juiste cijfer als een one-hot encoding."
   ]
  },
  {
   "cell_type": "code",
   "execution_count": 2,
   "metadata": {},
   "outputs": [
    {
     "name": "stdout",
     "output_type": "stream",
     "text": [
      "Help on function mnist_mini in module data:\n",
      "\n",
      "mnist_mini(filename, num=60000, seed=None)\n",
      "    Returns a number of different random 12x12 MNIST images.\n",
      "    \n",
      "    Keyword arguments:\n",
      "    filename -- full filename of the *.dat datafile\n",
      "    num      -- number of images to randomly select (default 60000)\n",
      "    seed     -- a seed to initialise the random number generator (default random)\n",
      "    \n",
      "    Return values:\n",
      "    xs       -- 144-element lists of pixel values (range 0.0-1.0)\n",
      "    ys       -- 10-element lists of correct digits using one-hot encoding\n",
      "\n"
     ]
    }
   ],
   "source": [
    "help(data.mnist_mini)"
   ]
  },
  {
   "cell_type": "markdown",
   "metadata": {},
   "source": [
    "Hiervan genereren we aanvankelijk om het simpel te houden slechts honderd instances elk voor de trainings-, validatie- en testdata. Onderzoek zelf de organisatie van deze data nader."
   ]
  },
  {
   "cell_type": "code",
   "execution_count": 4,
   "metadata": {},
   "outputs": [
    {
     "name": "stdout",
     "output_type": "stream",
     "text": [
      "Instance 1:\n",
      "\t avg: 0.13448232135967395\n",
      "\t max: 0.9922486155115667\n",
      "\t min: 0.000125683883402318\n",
      "Instance 2:\n",
      "\t avg: 0.15996972957254488\n",
      "\t max: 0.9118060914955903\n",
      "\t min: 0.0013801062023335517\n",
      "Instance 3:\n",
      "\t avg: 0.14532980358837785\n",
      "\t max: 0.9847333117454965\n",
      "\t min: 0.00010281928046845801\n",
      "Instance 4:\n",
      "\t avg: 0.3074247552295732\n",
      "\t max: 0.9964145078630854\n",
      "\t min: 0.0011286552247032136\n",
      "Instance 5:\n",
      "\t avg: 0.1457224003443871\n",
      "\t max: 0.9830489459508978\n",
      "\t min: 3.981857159093827e-06\n",
      "Instance 6:\n",
      "\t avg: 0.27727320471569306\n",
      "\t max: 0.9942713080726393\n",
      "\t min: 6.916419866059842e-05\n",
      "Instance 7:\n",
      "\t avg: 0.1587174851905931\n",
      "\t max: 0.9805728591201976\n",
      "\t min: 0.0005777065901234127\n",
      "Instance 8:\n",
      "\t avg: 0.12372831445038018\n",
      "\t max: 0.9349618389865241\n",
      "\t min: 0.00013580246709699734\n",
      "Instance 9:\n",
      "\t avg: 0.2749445625938012\n",
      "\t max: 0.9974840780086792\n",
      "\t min: 0.0005955764137611855\n",
      "Instance 10:\n",
      "\t avg: 0.20884211019793655\n",
      "\t max: 0.99582730700096\n",
      "\t min: 0.00015725029406041952\n",
      "Instance 11:\n",
      "\t avg: 0.20669964815270894\n",
      "\t max: 0.9650350289093171\n",
      "\t min: 0.00039046617325978056\n",
      "Instance 12:\n",
      "\t avg: 0.23617887036067442\n",
      "\t max: 0.9968829466063444\n",
      "\t min: 0.0002252873181742901\n",
      "Instance 13:\n",
      "\t avg: 0.14587764010677\n",
      "\t max: 0.9993497807173627\n",
      "\t min: 0.0005727734379796443\n",
      "Instance 14:\n",
      "\t avg: 0.17272603302920336\n",
      "\t max: 0.9816197081578167\n",
      "\t min: 0.00031410389265178196\n",
      "Instance 15:\n",
      "\t avg: 0.10947916742407134\n",
      "\t max: 0.9177190541568352\n",
      "\t min: 1.4136688811713927e-06\n",
      "Instance 16:\n",
      "\t avg: 0.27132655917092335\n",
      "\t max: 0.9827325932016956\n",
      "\t min: 1.871914687667786e-05\n",
      "Instance 17:\n",
      "\t avg: 0.263682903892709\n",
      "\t max: 0.9938925344556071\n",
      "\t min: 3.147809236209165e-05\n",
      "Instance 18:\n",
      "\t avg: 0.18172590699094845\n",
      "\t max: 0.9184907844371744\n",
      "\t min: 0.00020432648675966503\n",
      "Instance 19:\n",
      "\t avg: 0.2690640907465296\n",
      "\t max: 0.999646994469843\n",
      "\t min: 0.00040954657806370476\n",
      "Instance 20:\n",
      "\t avg: 0.14064230168637096\n",
      "\t max: 0.838028889516434\n",
      "\t min: 0.0006738425998283129\n"
     ]
    }
   ],
   "source": [
    "# STAP 1: DATAGENERATIE\n",
    "xs, ys = data.mnist_mini('./data/MNIST_mini.dat', num=900)\n",
    "trn_xs, trn_ys = xs[  0:100], ys[  0:100]\n",
    "val_xs, val_ys = xs[100:200], ys[100:200]\n",
    "tst_xs, tst_ys = xs[200:300], ys[200:300]\n",
    "\n",
    "xs_sample = sample(xs, 20)\n",
    "for i, instance in enumerate(xs_sample):\n",
    "    print(f\"Instance {i+1}:\\n\\t avg: {sum(instance)/len(instance)}\\n\\t max: {max(instance)}\\n\\t min: {min(instance)}\")\n",
    "# data.scatter(trn_xs, trn_ys)"
   ]
  },
  {
   "cell_type": "markdown",
   "metadata": {},
   "source": [
    "Hieronder wordt een eenvoudig dummy model aangemaakt; er is weliswaar vanalles aan te merken op dit overgesimplificeerde model, maar hanteer dit als een eerste uitgangspunt."
   ]
  },
  {
   "cell_type": "code",
   "execution_count": 5,
   "metadata": {},
   "outputs": [
    {
     "name": "stdout",
     "output_type": "stream",
     "text": [
      "0.19622445386458226 -0.1970593819904323\n"
     ]
    }
   ],
   "source": [
    "# STAP 2: MODELDEFINITIE\n",
    "my_model = model.InputLayer(144, name='input') + \\\n",
    "           model.DenseLayer(10, name='hidden') + \\\n",
    "           model.ActivationLayer(10, name='output') + \\\n",
    "           model.LossLayer(name='loss')\n",
    "\n",
    "\n",
    "weights = my_model[1].weights\n",
    "print(max(weights[5]), min(weights[5]))\n",
    "\n",
    "\n"
   ]
  },
  {
   "cell_type": "markdown",
   "metadata": {},
   "source": [
    "Vervolgens trainen en evalueren we dit model als volgt. Wederom zijn de gekozen parameters ongetwijfeld niet optimaal."
   ]
  },
  {
   "cell_type": "code",
   "execution_count": 8,
   "metadata": {},
   "outputs": [
    {
     "name": "stdout",
     "output_type": "stream",
     "text": [
      "input started epoch: 1/3 (0.0min)\n",
      "input started epoch: 2/3 (0.0min)\n",
      "input started epoch: 3/3 (0.0min)\n",
      "input finished training of 3 epochs\n"
     ]
    }
   ],
   "source": [
    "# STAP 3: TRAINING\n",
    "my_history = my_model.fit(trn_xs, trn_ys, alpha=0.01, epochs=3, validation_data=(val_xs, val_ys))"
   ]
  },
  {
   "cell_type": "markdown",
   "metadata": {},
   "source": [
    "Echter, hiermee kunnen we een validatiecurve construeren."
   ]
  },
  {
   "cell_type": "code",
   "execution_count": 9,
   "metadata": {},
   "outputs": [
    {
     "data": {
      "image/png": "[encoded data removed]",
      "text/plain": [
       "<Figure size 640x480 with 1 Axes>"
      ]
     },
     "metadata": {},
     "output_type": "display_data"
    }
   ],
   "source": [
    "# STAP 4: VALIDATIECURVE\n",
    "data.curve(my_history)"
   ]
  },
  {
   "cell_type": "markdown",
   "metadata": {},
   "source": [
    "Om inzicht te krijgen in de prestaties van het model, worden hieronder twintig instances uit de testdata getoond met voor en na de pijl respectievelijk de juiste en de voorspelde klasselabels."
   ]
  },
  {
   "cell_type": "code",
   "execution_count": 10,
   "metadata": {},
   "outputs": [
    {
     "data": {
      "image/png": "[encoded data removed]",
      "text/plain": [
       "<Figure size 1600x80 with 20 Axes>"
      ]
     },
     "metadata": {},
     "output_type": "display_data"
    }
   ],
   "source": [
    "# STAP 5: VISUALISATIE\n",
    "data.digits(tst_xs[:20], tst_ys[:20], model=my_model)"
   ]
  },
  {
   "cell_type": "markdown",
   "metadata": {},
   "source": [
    "Berekenen we eens de gemiddelde loss op alle testdata."
   ]
  },
  {
   "cell_type": "code",
   "execution_count": 11,
   "metadata": {},
   "outputs": [
    {
     "name": "stdout",
     "output_type": "stream",
     "text": [
      "Loss: 2.2675733690777453\n"
     ]
    }
   ],
   "source": [
    "# STAP 6: EVALUATIE\n",
    "print(f'Loss: {my_model.evaluate(tst_xs, tst_ys)}')"
   ]
  },
  {
   "cell_type": "markdown",
   "metadata": {},
   "source": [
    "Dit getal zegt misschien nog niet zoveel. Daarom bekijken we een grafische weergave van de [confusion matrix](https://en.wikipedia.org/wiki/Confusion_matrix) die weergeeft welke voorspelde klasselabels op de $x$-as aan alle echte klasselabels op de $y$-as worden toegekend (let op de logaritmische kleurschaal)."
   ]
  },
  {
   "cell_type": "code",
   "execution_count": 12,
   "metadata": {},
   "outputs": [
    {
     "data": {
      "image/png": "[encoded data removed]",
      "text/plain": [
       "<Figure size 640x480 with 2 Axes>"
      ]
     },
     "metadata": {},
     "output_type": "display_data"
    }
   ],
   "source": [
    "# STAP 7: CONFUSIONMATRIX\n",
    "data.confusion(tst_xs, tst_ys, model=my_model)"
   ]
  },
  {
   "cell_type": "markdown",
   "metadata": {},
   "source": [
    "Hoewel er best wat fouten worden gemaakt liggen er toch behoorlijk wat juist geclassificeerde instances op de diagonaal. Daarnaast, een aantal van de meest gemaakte fouten betreft cijfers dit ook wel enigszins op elkaar lijken. Dit overdreven simpele model bereikt - afhankelijk van de willekeurig gekozen instances en initialisatiewaarden - een nauwkeurigheid van rond de 50%, wat wil zeggen dat ongeveer de helft van de cijfers correct wordt herkend. Dit is nog niet indrukwekkend goed, maar gezien de eenvoudige opbouw van het model al best verrassend en in elk geval ruim boven de 10% nauwkeurigheid die je mag verwachten op grond van kans alleen.\n",
    "\n",
    "***\n",
    "\n",
    "Pas nu hieronder eens het bovenstaande model aan tot een neuraal netwerk dat deze afbeeldingen redelijk betrouwbaar kan classificeren. Kies zelf een geschikte opzet van het model en bepaal door te experimenteren geschikte waarden voor de diverse parameters. Voer dezelfde zeven stappen uit als hierboven, maar dan met een effectiever en beter geoptimaliseerd model.\n",
    "\n",
    "**Opdracht:** Gebruik tenminste ergens in je model de \"Hard Tanh\" activatiefunctie. Zoek hier zonodig informatie over op en implementeer deze in je module."
   ]
  },
  {
   "cell_type": "code",
   "execution_count": null,
   "metadata": {},
   "outputs": [],
   "source": [
    "# Verander deze cel niet\n",
    "starttime = perf_counter()"
   ]
  },
  {
   "cell_type": "code",
   "execution_count": null,
   "metadata": {},
   "outputs": [],
   "source": [
    "total_instances = 17600\n",
    "trn_ratio, val_ratio, tst_ratio = 0.9, 0.05, 0.05\n",
    "\n",
    "trn_size = int(total_instances * trn_ratio)\n",
    "val_size = int(total_instances * val_ratio)\n",
    "tst_size = int(total_instances * tst_ratio)\n",
    "print(f\"Total instances: {total_instances}, Training={trn_size}, Validation={val_size}, Test={tst_size}\")\n",
    "\n",
    "xs, ys = data.mnist_mini('./MNIST_mini.dat', num=total_instances)\n",
    "trn_xs, trn_ys = xs[:trn_size], ys[:trn_size]\n",
    "val_xs, val_ys = xs[trn_size:trn_size + val_size], ys[trn_size:trn_size + val_size]\n",
    "tst_xs, tst_ys = xs[trn_size + val_size:], ys[trn_size + val_size:]"
   ]
  },
  {
   "cell_type": "code",
   "execution_count": null,
   "metadata": {
    "scrolled": true
   },
   "outputs": [],
   "source": [
    "# STAP 2: MODELDEFINITIE\n",
    "my_model = model.InputLayer(144) + \\\n",
    "           model.DenseLayer(72) + model.ActivationLayer(72, activation=model.hard_tanh) + \\\n",
    "           model.DenseLayer(36) + model.ActivationLayer(36, activation=model.swish) + \\\n",
    "           model.DenseLayer(18) + model.ActivationLayer(18, activation=model.swish) + \\\n",
    "           model.DenseLayer(10) + model.SoftmaxLayer(10) + \\\n",
    "           model.LossLayer(loss=model.categorical_crossentropy)\n",
    "\n",
    "print(my_model)"
   ]
  },
  {
   "cell_type": "code",
   "execution_count": null,
   "metadata": {},
   "outputs": [],
   "source": [
    "# STAP 3: TRAINING\n",
    "my_history = my_model.fit(trn_xs, trn_ys, alpha=0.06, epochs=9, batch_size=60, validation_data=(val_xs, val_ys))"
   ]
  },
  {
   "cell_type": "code",
   "execution_count": null,
   "metadata": {},
   "outputs": [],
   "source": [
    "# STAP 4: VALIDATIECURVE\n",
    "data.curve(my_history)"
   ]
  },
  {
   "cell_type": "code",
   "execution_count": null,
   "metadata": {},
   "outputs": [],
   "source": [
    "# STAP 5: VISUALISATIE\n",
    "data.digits(tst_xs[:20], tst_ys[:20], model=my_model)"
   ]
  },
  {
   "cell_type": "code",
   "execution_count": null,
   "metadata": {},
   "outputs": [],
   "source": [
    "# STAP 6: EVALUATIE\n",
    "print(f'Loss: {my_model.evaluate(tst_xs, tst_ys)}')"
   ]
  },
  {
   "cell_type": "code",
   "execution_count": 13,
   "metadata": {
    "scrolled": true
   },
   "outputs": [
    {
     "data": {
      "image/png": "[encoded data removed]",
      "text/plain": [
       "<Figure size 640x480 with 2 Axes>"
      ]
     },
     "metadata": {},
     "output_type": "display_data"
    }
   ],
   "source": [
    "# STAP 7: CONFUSIONMATRIX\n",
    "data.confusion(tst_xs, tst_ys, model=my_model)"
   ]
  },
  {
   "cell_type": "code",
   "execution_count": null,
   "metadata": {},
   "outputs": [],
   "source": [
    "# Verander deze cel niet\n",
    "print(f'Verstreken tijd: {(perf_counter() - starttime) / 60.0:.1f} minuten.')"
   ]
  },
  {
   "cell_type": "markdown",
   "metadata": {},
   "source": [
    "<div class=\"alert alert-warning\">\n",
    "\n",
    "**Hint:**\n",
    "\n",
    "Voer achtereenvolgens de onderstaande ontwikkelstappen uit.\n",
    "\n",
    "</div>\n",
    "\n",
    "* creëer eerst een model met meerdere hidden layers waarin gezamenlijk in de ordegrootte van een honderdtal neuronen verwerkt zijn;\n",
    "\n",
    "* stel dan de invoer- & uitvoerlagen en activatie- & loss-functies zo in dat het model geschikt is voor deze classificatie-taak;\n",
    "\n",
    "* begin met een datasetje van zeer beperkte grootte zodat het model in niet meer dan ongeveer een minuut over een klein aantal epochs te trainen is;\n",
    "\n",
    "* kies een grootte voor de mini-batches die naar jouw inschatting net genoeg is om een enigszins representatieve steekproef van de data te vormen;\n",
    "\n",
    "* probeer aanvankelijk een relatief grote learning rate uit en stel deze bij naar beneden zolang het model niet in staat is een dalende validatie-curve te tonen;\n",
    "\n",
    "* start met enkele epochs en voer dit op totdat de validatiecurve aangeeft dat het model redelijk getraind raakt (de trainingstijd neemt hierbij evenredig toe);\n",
    "\n",
    "* vergroot dan geleidelijk de grootte van de datasets (waarbij het nodige aantal epochs afneemt omdat er per epoch meer mini-batches getraind worden);\n",
    "\n",
    "* je mag alle 60.000 instances uiteindelijk gebruiken, maar dat is niet verplicht;\n",
    "\n",
    "* speel met de bovenstaande procedure tot je een model hebt gevonden dat in een werkbare tijd toch naar tevredenheid convergeert.\n",
    "\n",
    "<div class=\"alert alert-info\">\n",
    "\n",
    "**Opmerking:**\n",
    "\n",
    "Ter indicatie, een deugdelijk model is in zijn uiteindelijke vorm op een typische hedendaagse CPU na enkele tientallen minuten training (eis: maximaal 1 uur) in staat om ruim 90% (eis: minimaal 80%) accuracy te behalen zonder daarbij zichtbaar te overfitten.\n",
    "\n",
    "</div>\n",
    "\n",
    "### <a id='Afsluiting'>Afsluiting</a>\n",
    "\n",
    "Als je klaar bent, lever dan je uitwerkingen als volgt in:\n",
    "\n",
    "1. Sla je model vanuit je code-editor op als **model.py**;\n",
    "\n",
    "2. Evalueer dit notebook door vanuit het menu *Kernel > Restart & Run All* te kiezen;\n",
    "\n",
    "3. Controleer dat alle uitvoer correct en volledig wordt geproduceerd;\n",
    "\n",
    "4. Exporteer dit notebook als **Eindopdracht_v2223.1.html** vanuit het menu *File > Download as > HTML (.html)*;\n",
    "\n",
    "5. Verwijder vervolgens de uitvoer in dit notebook via het menu *Cell > All Output > Clear*;\n",
    "\n",
    "6. Sla dit notebook op als **Eindopdracht_v2223.1.ipynb** middels het menu *File > Save and Checkpoint*;\n",
    "\n",
    "7. Comprimeer alledrie de hierboven genoemde bestanden in één bestand **Eindopdracht_v2223.1.zip**;\n",
    "\n",
    "8. Lever je zip-bestand uiterlijk **woensdag 19 april 2023** (23:59) in op BlackBoard;\n",
    "\n",
    "9. E-mail de docent met je voorkeurstijdstippen voor het mondelinge tentamen.\n",
    "\n",
    "<div class=\"alert alert-info\">\n",
    "\n",
    "**Opmerking:**\n",
    "\n",
    "Het mondelinge tentamen vindt typisch plaats in de werkweek volgend op de week van inleveren; als je vóór kwartaal 4 een beoordeling voor dit vak wil hebben dien je dus uiterlijk in de eerste tentamenweek je uitwerkingen in te leveren.\n",
    "\n",
    "</div>\n",
    "\n",
    "<div class=\"alert alert-danger\">\n",
    "\n",
    "**Waarschuwing:**\n",
    "\n",
    "Verifieer dat je het juiste bestand uploadt, want eenmaal ingestuurd werk geldt als definitief!\n",
    "\n",
    "</div>\n",
    "\n",
    "Succes!\n",
    "\n",
    "***\n",
    "\n",
    "<small>&copy; 2023, Dave R.M. Langers, [d.r.m.langers@pl.hanze.nl](mailto:d.r.m.langers@pl.hanze.nl)</small>"
   ]
  }
 ],
 "metadata": {
  "kernelspec": {
   "display_name": "Python 3",
   "language": "python",
   "name": "python3"
  },
  "language_info": {
   "codemirror_mode": {
    "name": "ipython",
    "version": 3
   },
   "file_extension": ".py",
   "mimetype": "text/x-python",
   "name": "python",
   "nbconvert_exporter": "python",
   "pygments_lexer": "ipython3",
   "version": "3.10.8"
  }
 },
 "nbformat": 4,
 "nbformat_minor": 2
}
